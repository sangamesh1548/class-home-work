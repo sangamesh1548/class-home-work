{
 "cells": [
  {
   "cell_type": "code",
   "execution_count": 6,
   "metadata": {},
   "outputs": [
    {
     "name": "stdout",
     "output_type": "stream",
     "text": [
      "3.25.0\n"
     ]
    }
   ],
   "source": [
    "import cassandra\n",
    "print (cassandra.__version__)"
   ]
  },
  {
   "cell_type": "code",
   "execution_count": 31,
   "metadata": {},
   "outputs": [
    {
     "name": "stdout",
     "output_type": "stream",
     "text": [
      "Row(keyspace_name='database1', durable_writes=True, graph_engine=None, replication=OrderedMapSerializedKey([('class', 'org.apache.cassandra.locator.NetworkTopologyStrategy'), ('us-east1', '3')]))\n"
     ]
    }
   ],
   "source": [
    "#connection established \n",
    "from cassandra.cluster import Cluster\n",
    "from cassandra.auth import PlainTextAuthProvider\n",
    "\n",
    "cloud_config= {\n",
    "        'secure_connect_bundle': 'G:\\secure-connect-test2.zip'\n",
    "}\n",
    "auth_provider = PlainTextAuthProvider('HGuMxkIqmLAlZjBKDFCGXRBY', 'rgy.7rn,XkJgtZABtXCN6dTrtIPKZr,PeInjzjvj,xHNpm-aYjEwX0i1,FmE7cEqkeMEQXxX9Z+F1k3i28Wi-9g-Q4l173j26DbYA-EfcUiGYL4QxOdk_TdFUaH7cxii')\n",
    "cluster = Cluster(cloud=cloud_config, auth_provider=auth_provider)\n",
    "session = cluster.connect()\n",
    "\n",
    "row = session.execute(\"select * from system_schema.keyspaces\").one()\n",
    "print(row)\n"
   ]
  },
  {
   "cell_type": "code",
   "execution_count": 42,
   "metadata": {},
   "outputs": [
    {
     "name": "stdout",
     "output_type": "stream",
     "text": [
      "None\n"
     ]
    }
   ],
   "source": [
    "#crete table \n",
    "row1=session.execute(\"CREATE TABLE database1.emp1(id int PRIMARY  KEY, lastname text , firstname text );\").one()\n",
    "print(row1)"
   ]
  },
  {
   "cell_type": "code",
   "execution_count": 45,
   "metadata": {},
   "outputs": [
    {
     "name": "stdout",
     "output_type": "stream",
     "text": [
      "<cassandra.cluster.ResultSet object at 0x000000C080813EB0>\n"
     ]
    }
   ],
   "source": [
    "#insert the singel record \n",
    "row = session.execute(\"INSERT INTO database1.emp1(id, lastname, firstname) VALUES (25, 'sudhansu','kumar');\")\n",
    "print(row)\n"
   ]
  },
  {
   "cell_type": "code",
   "execution_count": 51,
   "metadata": {},
   "outputs": [
    {
     "name": "stdout",
     "output_type": "stream",
     "text": [
      "(25, 'kumar', 'sudhansu')\n"
     ]
    }
   ],
   "source": [
    "#select the record\n",
    "row = session.execute(\"select * from database1.emp1 \")\n",
    "for i in row:\n",
    "    print(i[0::])\n"
   ]
  },
  {
   "cell_type": "code",
   "execution_count": null,
   "metadata": {},
   "outputs": [],
   "source": [
    "#inert into multiple record \n",
    "row = session.execute(\"INSERT INTO database1.emp1(id, lastname, firstname) VALUES (25, 'sudhansu','kumar');\")\n",
    "print(row)\n"
   ]
  },
  {
   "cell_type": "code",
   "execution_count": 75,
   "metadata": {},
   "outputs": [
    {
     "name": "stdout",
     "output_type": "stream",
     "text": [
      "<cassandra.cluster.ResultSet object at 0x000000C081422100>\n"
     ]
    }
   ],
   "source": [
    "#add_cloumns in exsiting table\n",
    "row=session.execute(\"ALTER TABLE database1.emp1 ADD emp_email2 text\")\n",
    "print(row)"
   ]
  },
  {
   "cell_type": "code",
   "execution_count": 76,
   "metadata": {},
   "outputs": [
    {
     "name": "stdout",
     "output_type": "stream",
     "text": [
      "(25, None, None, 'kumar', 'sudhansu')\n"
     ]
    }
   ],
   "source": [
    "\n",
    "row1=session.execute((\"select * from database1.emp1\"))\n",
    "for j in row1:\n",
    "    print(j[0:])"
   ]
  },
  {
   "cell_type": "code",
   "execution_count": 77,
   "metadata": {},
   "outputs": [
    {
     "name": "stdout",
     "output_type": "stream",
     "text": [
      "<cassandra.cluster.ResultSet object at 0x000000C0FDD29AF0>\n"
     ]
    }
   ],
   "source": [
    "#drop in exsiting table\n",
    "row1=session.execute(\"ALTER TABLE database1.emp1 DROP emp_email\")\n",
    "print(row1)\n"
   ]
  },
  {
   "cell_type": "code",
   "execution_count": 79,
   "metadata": {},
   "outputs": [
    {
     "name": "stdout",
     "output_type": "stream",
     "text": [
      "(25, None, 'kumar', 'sudhansu')\n"
     ]
    }
   ],
   "source": [
    "#check the existing table is deleted\n",
    "row1=session.execute(\"select * from database1.emp1\")\n",
    "for i in row1:\n",
    "    print(i[0:])"
   ]
  },
  {
   "cell_type": "code",
   "execution_count": 102,
   "metadata": {},
   "outputs": [
    {
     "name": "stdout",
     "output_type": "stream",
     "text": [
      "None\n"
     ]
    }
   ],
   "source": [
    "row3=session.execute(\"create table database1.emp3(emp_id int PRIMARY KEY , emp_city text, emp_name text, emp_phone varint , emp_sal int );\").one()\n",
    "print(row3)"
   ]
  },
  {
   "cell_type": "code",
   "execution_count": 103,
   "metadata": {},
   "outputs": [],
   "source": [
    "#you can execute multiple modification statements (insert, update, delete) simultaneiously.\n",
    "row1=session.execute(\"BEGIN BATCH INSERT INTO database1.emp3 (emp_id, emp_city, emp_name, emp_phone, emp_sal) values( 4,'Pune','rajeev',9848022331, 30000);UPDATE database1.emp3 SET emp_sal = 50000 WHERE emp_id =3; DELETE emp_city FROM database1.emp3 WHERE emp_id = 2;APPLY BATCH;\")"
   ]
  },
  {
   "cell_type": "code",
   "execution_count": 107,
   "metadata": {},
   "outputs": [
    {
     "name": "stdout",
     "output_type": "stream",
     "text": [
      "(4, 'Pune', 'rajeev', 9848022331, 30000)\n",
      "(3, None, None, None, 50000)\n"
     ]
    }
   ],
   "source": [
    "#insert,update,delete simultaneiousley\n",
    "for i in session.execute(\"select * from database1.emp3\"):\n",
    "    print(i[0:])"
   ]
  },
  {
   "cell_type": "code",
   "execution_count": 114,
   "metadata": {},
   "outputs": [
    {
     "data": {
      "text/plain": [
       "<cassandra.cluster.ResultSet at 0xc08081f040>"
      ]
     },
     "execution_count": 114,
     "metadata": {},
     "output_type": "execute_result"
    }
   ],
   "source": [
    "#insert multiple statment using batch statment\n",
    "session.execute(\"CREATE TABLE database1.emp_data(E_id int PRIMARY KEY,Name text,emp_start_date date, emp_end_date date,);\")"
   ]
  },
  {
   "cell_type": "code",
   "execution_count": 129,
   "metadata": {},
   "outputs": [
    {
     "name": "stdout",
     "output_type": "stream",
     "text": [
      "<cassandra.cluster.ResultSet object at 0x000000C081256850>\n"
     ]
    }
   ],
   "source": [
    "query=session.execute(\"\"\"BEGIN BATCH \n",
    "                      INSERT INTO database1.emp_data(E_id, Name, emp_start_date, emp_end_date) VALUES(1006, 'Rana', '2019-12-05','2020-11-28'); \n",
    "                      INSERT INTO database1.emp_data(E_id, Name) VALUES (1005, 'satish');\n",
    "                      INSERT INTO database1.emp_data(E_id, Name,emp_start_date) VALUES (1007, 'sanagmesh', '2021-05-06');APPLY BATCH;\"\"\")\n",
    "print(query)"
   ]
  },
  {
   "cell_type": "code",
   "execution_count": 133,
   "metadata": {},
   "outputs": [
    {
     "name": "stdout",
     "output_type": "stream",
     "text": [
      "1006,2020-11-28,2019-12-05,Rana\n",
      "1007,None,2021-05-06,sanagmesh\n",
      "1005,None,None,satish\n"
     ]
    }
   ],
   "source": [
    "for i in session.execute(\"select * from database1.emp_data\"):\n",
    "    print(f\"{i[0]},{i[1]},{i[2]},{i[3]}\")"
   ]
  },
  {
   "cell_type": "code",
   "execution_count": 149,
   "metadata": {},
   "outputs": [
    {
     "name": "stdout",
     "output_type": "stream",
     "text": [
      "updated\n"
     ]
    }
   ],
   "source": [
    "#update values \n",
    "session.execute(\"update database1.emp_data set emp_start_date='2020-04-21', emp_end_date='2021-06-25' where E_id=1005 \")\n",
    "print('updated')"
   ]
  },
  {
   "cell_type": "code",
   "execution_count": 150,
   "metadata": {},
   "outputs": [
    {
     "name": "stdout",
     "output_type": "stream",
     "text": [
      "1006,2020-11-28,2019-12-05,Rana\n",
      "1007,None,2021-05-06,sanagmesh\n",
      "1005,2021-06-25,2020-04-21,satish\n"
     ]
    }
   ],
   "source": [
    "for i in session.execute(\"select * from database1.emp_data\"):\n",
    "    print(f\"{i[0]},{i[1]},{i[2]},{i[3]}\")"
   ]
  },
  {
   "cell_type": "code",
   "execution_count": 153,
   "metadata": {},
   "outputs": [
    {
     "name": "stdout",
     "output_type": "stream",
     "text": [
      "deleted\n"
     ]
    }
   ],
   "source": [
    "#delete satament\n",
    "session.execute(\" delete from  database1.emp_data WHERE E_id=1007\")\n",
    "print('deleted')"
   ]
  },
  {
   "cell_type": "code",
   "execution_count": 154,
   "metadata": {},
   "outputs": [
    {
     "name": "stdout",
     "output_type": "stream",
     "text": [
      "1006,2020-11-28,2019-12-05,Rana\n",
      "1005,2021-06-25,2020-04-21,satish\n"
     ]
    }
   ],
   "source": [
    "for i in session.execute(\"select * from database1.emp_data\"):\n",
    "    print(f\"{i[0]},{i[1]},{i[2]},{i[3]}\")"
   ]
  },
  {
   "cell_type": "code",
   "execution_count": null,
   "metadata": {},
   "outputs": [],
   "source": []
  }
 ],
 "metadata": {
  "kernelspec": {
   "display_name": "Python 3",
   "language": "python",
   "name": "python3"
  },
  "language_info": {
   "codemirror_mode": {
    "name": "ipython",
    "version": 3
   },
   "file_extension": ".py",
   "mimetype": "text/x-python",
   "name": "python",
   "nbconvert_exporter": "python",
   "pygments_lexer": "ipython3",
   "version": "3.8.5"
  }
 },
 "nbformat": 4,
 "nbformat_minor": 4
}
